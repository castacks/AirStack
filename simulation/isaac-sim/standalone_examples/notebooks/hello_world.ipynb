{
 "cells": [
  {
   "cell_type": "code",
   "execution_count": null,
   "id": "f639c7a9",
   "metadata": {},
   "outputs": [],
   "source": [
    "# Copyright (c) 2020-2021, NVIDIA CORPORATION.  All rights reserved.\n",
    "#\n",
    "# NVIDIA CORPORATION and its licensors retain all intellectual property\n",
    "# and proprietary rights in and to this software, related documentation\n",
    "# and any modifications thereto.  Any use, reproduction, disclosure or\n",
    "# distribution of this software and related documentation without an express\n",
    "# license agreement from NVIDIA CORPORATION is strictly prohibited.\n"
   ]
  },
  {
   "cell_type": "code",
   "execution_count": null,
   "id": "420e8940",
   "metadata": {},
   "outputs": [],
   "source": [
    "from isaacsim import SimulationApp\n",
    "\n",
    "# Set the path below to your desired nucleus server\n",
    "# Make sure you installed a local nucleus server before this\n",
    "simulation_app = SimulationApp()"
   ]
  },
  {
   "cell_type": "code",
   "execution_count": null,
   "id": "2955b2e2",
   "metadata": {},
   "outputs": [],
   "source": [
    "from isaacsim.core.api import World\n",
    "from isaacsim.core.api.objects import DynamicCuboid\n",
    "import numpy as np\n",
    "\n",
    "world = World(stage_units_in_meters=1.0)\n",
    "world.scene.add_default_ground_plane()\n",
    "# A render/ step or an update call is needed to reflect the changes to the opened USD in Isaac Sim GUI\n",
    "#  Note: avoid pressing play/ pause or stop in the GUI in this workflow.\n",
    "world.render()\n"
   ]
  },
  {
   "cell_type": "code",
   "execution_count": null,
   "id": "702a40af",
   "metadata": {},
   "outputs": [],
   "source": [
    "fancy_cube = world.scene.add(\n",
    "    DynamicCuboid(\n",
    "        prim_path=\"/World/random_cube\",\n",
    "        name=\"fancy_cube\",\n",
    "        position=np.array([0, 0, 1.000]),\n",
    "        scale=np.array([0.5015, 0.505, 0.5015]),\n",
    "        size=1.0,\n",
    "        color=np.array([0, 0, 1.0]),\n",
    "    )\n",
    ")\n",
    "world.render()\n"
   ]
  },
  {
   "cell_type": "code",
   "execution_count": null,
   "id": "10a83e53",
   "metadata": {},
   "outputs": [],
   "source": [
    "world.reset()\n",
    "for i in range(500):\n",
    "    position, orientation = fancy_cube.get_world_pose()\n",
    "    linear_velocity = fancy_cube.get_linear_velocity()\n",
    "    print(\"Cube position is : \" + str(position))\n",
    "    print(\"Cube's orientation is : \" + str(orientation))\n",
    "    print(\"Cube's linear velocity is : \" + str(linear_velocity))\n",
    "    # we have control over stepping physics and rendering in this workflow\n",
    "    # things run in sync\n",
    "    world.step(render=True)  # execute one physics step and one rendering step\n"
   ]
  },
  {
   "cell_type": "code",
   "execution_count": null,
   "id": "02f57ca0",
   "metadata": {},
   "outputs": [],
   "source": [
    "# Cleanup application\n",
    "simulation_app.close()"
   ]
  }
 ],
 "metadata": {
  "kernelspec": {
   "display_name": "Isaac Sim Python 3",
   "language": "python",
   "name": "isaac_sim_python3"
  },
  "language_info": {
   "codemirror_mode": {
    "name": "ipython",
    "version": 3
   },
   "file_extension": ".py",
   "mimetype": "text/x-python",
   "name": "python",
   "nbconvert_exporter": "python",
   "pygments_lexer": "ipython3",
   "version": "3.7.13"
  }
 },
 "nbformat": 4,
 "nbformat_minor": 5
}
